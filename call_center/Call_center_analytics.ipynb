{
 "cells": [
  {
   "cell_type": "markdown",
   "id": "d72c98b5",
   "metadata": {},
   "source": [
    "£"
   ]
  },
  {
   "cell_type": "code",
   "execution_count": 1,
   "id": "bd34527d",
   "metadata": {},
   "outputs": [],
   "source": [
    "from datetime import timedelta\n",
    "import datetime\n",
    "import matplotlib.pyplot as plt\n",
    "import seaborn as sns"
   ]
  },
  {
   "cell_type": "code",
   "execution_count": 2,
   "id": "21b94522",
   "metadata": {},
   "outputs": [],
   "source": [
    "import psycopg2\n",
    "\n",
    "conn = psycopg2.connect(dbname=\"gfmqvpia\",\n",
    "                        user=\"gfmqvpia\",\n",
    "                        password=\"NwRoBJ0KJHXmjqUva_7ZW0XOO-qfA26E\",\n",
    "                        host=\"castor.db.elephantsql.com\")\n",
    "\n",
    "cur = conn.cursor()"
   ]
  },
  {
   "cell_type": "markdown",
   "id": "82e30ed7",
   "metadata": {},
   "source": [
    "Мы колл-центр банка. Сплит операторов, отвечающий за ответы по продуктам клиента. \n",
    "\n",
    "1. Клиент звонит, мы идентифицируем его по телефону (phone_number, Personal Data), получаем его ID (uniqueUserId, Personal Data), обращаемся к нему по имени.  \n",
    "2. Делаем селект через uniqueUserId в табличке с продуктами клиента (User Products) и в табличке с названиями продуктов (Products) отдельно (1) для продуктов, которые у клиента есть и (2) для продуктов, которых у него нет, потому что одна из наших целей – продажи\n",
    "3. Если мы крутая компания, то интент-рекогнайзер IVR бота понимает тематику обращения и отмечает ее, если не очень, то тематику проставляет оператор, в логи отправляется ключевое слово продукта (productKeyword), начало, конец и длительность звонка +  ID сессии. Телефон мы нигде кроме первой таблички не храним, потому что это персональные данные.\n",
    "4. В таблице с метриками (Session Metrics) копится аналитика по сессии: CSI – оценка звонка пользователем по пятибалльной шкале + комментарий к ней. Табличка отдельно от логирования самого звонка, потому что оценку ставят в боте а не говорят оператору.  Оценку оставляют не все клиенты, поэтому у оценок уникальный ID\n",
    "5. В Sales Logging попадают сессии, в которых удалось что-то продать клиенту. Из-за того что продажи происходят не в каждой сессии и в одной сессии могут быть 2 продажи, у таблицы отдельный ключ\n",
    "6. После каждой сессии, если в Sales Logging обновляется таблица, изменения прилетают и в UserProducts. Через session id мы выбираем userid, через него заполняем строчку в таблице. ProductId оператор не знает, он выбирается по введенному ProductKeyword.  Во время продажи ставим timestamp_end из логирования звонка.\n",
    "\n",
    "Аггрегация, сортировки (2 балл):\n",
    "\n",
    "В качестве аггрегации будем выводить число проданных продуктов (можно с условием по датам)\n",
    "\n",
    "В качестве сортировки можем выбрать число продуктов по пользователям, отсортировать и построить bar plot\n",
    "\n",
    "SELECT с несколькими (от трех) таблицами в условии выборки (1 балл)\n",
    "\n",
    "Выбираем всех пользователей, поставивших плохие оценки и смотрим сколько у них продуктов нашей компании. Таблицы Session Metrics, Call Logging, Users Products Гипотеза - пользователи с большим числом продуктов более лояльны"
   ]
  },
  {
   "cell_type": "code",
   "execution_count": 3,
   "id": "a5d946c0",
   "metadata": {},
   "outputs": [
    {
     "data": {
      "text/plain": [
       "[(224,\n",
       "  'Максим',\n",
       "  'Сидорочкин',\n",
       "  'Макарович',\n",
       "  '83583878167',\n",
       "  datetime.date(1990, 11, 6))]"
      ]
     },
     "execution_count": 3,
     "metadata": {},
     "output_type": "execute_result"
    }
   ],
   "source": [
    "cur.execute(\"\"\"SELECT * from personal_data\n",
    "WHERE userid = 224\"\"\")\n",
    "\n",
    "cur.fetchall()"
   ]
  },
  {
   "cell_type": "code",
   "execution_count": 4,
   "id": "9d80a289",
   "metadata": {},
   "outputs": [],
   "source": [
    "cur.execute(\"ROLLBACK\")"
   ]
  },
  {
   "cell_type": "code",
   "execution_count": 5,
   "id": "b7aa9e85",
   "metadata": {},
   "outputs": [],
   "source": [
    "cur.execute(\"\"\"\n",
    "SELECT userid,\n",
    "    CASE WHEN EXTRACT(YEAR FROM AGE(NOW(), dateofbirth)) >= 25 THEN name || ' ' || fathersname\n",
    "    ELSE name END\n",
    "FROM personal_data \n",
    "WHERE phonenumber = '89321404870';\n",
    "\"\"\")"
   ]
  },
  {
   "cell_type": "code",
   "execution_count": 6,
   "id": "c672db19",
   "metadata": {},
   "outputs": [],
   "source": [
    "data = cur.fetchall()"
   ]
  },
  {
   "cell_type": "code",
   "execution_count": 7,
   "id": "182cea3e",
   "metadata": {},
   "outputs": [
    {
     "data": {
      "text/plain": [
       "[(10, 'Владимир')]"
      ]
     },
     "execution_count": 7,
     "metadata": {},
     "output_type": "execute_result"
    }
   ],
   "source": [
    "data"
   ]
  },
  {
   "cell_type": "markdown",
   "id": "d3de1130",
   "metadata": {},
   "source": [
    "# Запросы для аналитики"
   ]
  },
  {
   "cell_type": "markdown",
   "id": "ec30170f",
   "metadata": {},
   "source": [
    "## Распределение CSI"
   ]
  },
  {
   "cell_type": "code",
   "execution_count": 89,
   "id": "9557ac10",
   "metadata": {},
   "outputs": [
    {
     "data": {
      "image/png": "[encoded data removed]",
      "text/plain": [
       "<Figure size 432x288 with 1 Axes>"
      ]
     },
     "metadata": {
      "needs_background": "light"
     },
     "output_type": "display_data"
    }
   ],
   "source": [
    "sql_query = pd.read_sql_query ('''\n",
    "                               SELECT\n",
    "                               csi, COUNT(csi)\n",
    "                               FROM session_metrics\n",
    "                               GROUP BY csi\n",
    "                               ORDER BY csi ASC''', conn)\n",
    "\n",
    "df = pd.DataFrame(sql_query, columns = ['csi', 'count'])\n",
    "df = df.set_index('csi')\n",
    "df['count'].plot(sort_columns=True, kind='barh', title='Распределение CSI')\n",
    "plt.show()"
   ]
  },
  {
   "cell_type": "markdown",
   "id": "eb9aa130",
   "metadata": {},
   "source": [
    "## Распределение покупок по каналам"
   ]
  },
  {
   "cell_type": "code",
   "execution_count": 90,
   "id": "ef66c6ea",
   "metadata": {},
   "outputs": [],
   "source": [
    "sql_query = pd.read_sql_query(\"\"\"\n",
    "    SELECT user_products.saleschannel, products.productname, COUNT(products.productname)\n",
    "\n",
    "    FROM user_products\n",
    "\n",
    "    INNER JOIN products ON user_products.productid = products.productid\n",
    "    GROUP BY \n",
    "    user_products.saleschannel,\n",
    "    products.productname;\n",
    "    \"\"\", conn)"
   ]
  },
  {
   "cell_type": "code",
   "execution_count": 91,
   "id": "19cf5882",
   "metadata": {
    "scrolled": false
   },
   "outputs": [
    {
     "data": {
      "image/png": "[encoded data removed]",
      "text/plain": [
       "<Figure size 529.875x360 with 1 Axes>"
      ]
     },
     "metadata": {
      "needs_background": "light"
     },
     "output_type": "display_data"
    }
   ],
   "source": [
    "ax = sns.catplot(x = \"saleschannel\",       # x variable name\n",
    "            y = \"count\",       # y variable name\n",
    "            hue = \"productname\",  # group variable name\n",
    "            data = sql_query,     # dataframe to plot\n",
    "            kind = \"bar\")\n",
    "ax.fig.suptitle('Распределение покупок продуктов по каналам')\n",
    "plt.show()"
   ]
  },
  {
   "cell_type": "markdown",
   "id": "1f589f50",
   "metadata": {},
   "source": [
    "## Исследование лояльности пользователей"
   ]
  },
  {
   "cell_type": "markdown",
   "id": "268bbe6f",
   "metadata": {},
   "source": [
    "Выбираем всех пользователей, поставивших плохие оценки и смотрим сколько у них продуктов нашей компании. Таблицы Session Metrics, Call Logging, Users Products"
   ]
  },
  {
   "cell_type": "code",
   "execution_count": 92,
   "id": "3e14d84b",
   "metadata": {},
   "outputs": [],
   "source": [
    "cur.execute(\"\"\"\n",
    "    SELECT T.userid, T.numprod, Y.avgcsi\n",
    "    \n",
    "    FROM\n",
    "        (SELECT userid, COUNT(salesid) as numprod\n",
    "        \n",
    "        FROM user_products\n",
    "        GROUP BY \n",
    "            userid\n",
    "        ORDER BY numprod DESC\n",
    "        ) AS T\n",
    "        \n",
    "    INNER JOIN\n",
    "        (SELECT call_logging.userid, PERCENTILE_CONT(0.5) WITHIN GROUP(ORDER BY session_metrics.csi) as avgcsi\n",
    "        \n",
    "        FROM call_logging\n",
    "        INNER JOIN session_metrics ON call_logging.subsessionid = session_metrics.subsessionid\n",
    "        GROUP BY\n",
    "        call_logging.userid\n",
    "        ) AS Y\n",
    "    ON T.userid = Y.userid\n",
    ";\"\"\")"
   ]
  },
  {
   "cell_type": "code",
   "execution_count": 93,
   "id": "c8130217",
   "metadata": {},
   "outputs": [],
   "source": [
    "csi_data = cur.fetchall()"
   ]
  },
  {
   "cell_type": "code",
   "execution_count": 94,
   "id": "a33f4350",
   "metadata": {},
   "outputs": [
    {
     "data": {
      "text/plain": [
       "[(154, 4, 2.0),\n",
       " (248, 4, 3.0),\n",
       " (256, 4, 3.0),\n",
       " (300, 4, 5.0),\n",
       " (334, 3, 3.5),\n",
       " (34, 3, 3.0),\n",
       " (94, 3, 3.5),\n",
       " (288, 3, 3.5),\n",
       " (193, 3, 2.0),\n",
       " (453, 3, 2.0),\n",
       " (177, 3, 2.0),\n",
       " (214, 3, 4.0),\n",
       " (147, 3, 1.0),\n",
       " (289, 3, 4.0),\n",
       " (120, 3, 4.0),\n",
       " (187, 3, 1.0),\n",
       " (146, 3, 1.0),\n",
       " (24, 3, 1.0),\n",
       " (106, 3, 1.0),\n",
       " (159, 3, 5.0),\n",
       " (176, 3, 2.0),\n",
       " (309, 3, 2.5),\n",
       " (133, 3, 5.0),\n",
       " (104, 3, 3.0),\n",
       " (140, 3, 3.0),\n",
       " (183, 3, 3.0),\n",
       " (413, 3, 2.5),\n",
       " (391, 3, 3.0),\n",
       " (139, 3, 4.0),\n",
       " (317, 3, 2.0),\n",
       " (312, 3, 2.0),\n",
       " (357, 2, 2.0),\n",
       " (220, 2, 5.0),\n",
       " (2, 2, 3.0),\n",
       " (428, 2, 5.0),\n",
       " (27, 2, 4.0),\n",
       " (415, 2, 2.0),\n",
       " (59, 2, 4.0),\n",
       " (245, 2, 1.5),\n",
       " (39, 2, 4.0),\n",
       " (287, 2, 3.0),\n",
       " (469, 2, 4.0),\n",
       " (118, 2, 1.0),\n",
       " (284, 2, 2.0),\n",
       " (126, 2, 2.0),\n",
       " (12, 2, 3.0),\n",
       " (293, 2, 4.0),\n",
       " (33, 2, 4.0),\n",
       " (185, 2, 5.0),\n",
       " (215, 2, 3.0),\n",
       " (431, 2, 2.0),\n",
       " (462, 2, 2.5),\n",
       " (299, 2, 2.5),\n",
       " (180, 2, 4.0),\n",
       " (236, 2, 4.0),\n",
       " (227, 2, 1.0),\n",
       " (280, 2, 3.5),\n",
       " (239, 2, 2.0),\n",
       " (240, 2, 3.0),\n",
       " (328, 2, 4.0),\n",
       " (297, 2, 5.0),\n",
       " (361, 2, 2.0),\n",
       " (89, 2, 4.0),\n",
       " (252, 2, 5.0),\n",
       " (78, 2, 2.0),\n",
       " (1, 2, 4.5),\n",
       " (178, 2, 4.0),\n",
       " (129, 2, 1.0),\n",
       " (114, 2, 5.0),\n",
       " (490, 2, 4.0),\n",
       " (119, 2, 2.0),\n",
       " (286, 2, 4.0),\n",
       " (28, 2, 4.0),\n",
       " (83, 2, 4.0),\n",
       " (213, 2, 3.5),\n",
       " (16, 2, 4.0),\n",
       " (326, 2, 4.0),\n",
       " (371, 2, 4.0),\n",
       " (423, 1, 4.0),\n",
       " (442, 1, 3.0),\n",
       " (354, 1, 3.0),\n",
       " (425, 1, 1.5),\n",
       " (13, 1, 4.0),\n",
       " (269, 1, 1.0),\n",
       " (340, 1, 4.0),\n",
       " (264, 1, 1.0),\n",
       " (435, 1, 2.0),\n",
       " (384, 1, 2.0),\n",
       " (116, 1, 3.0),\n",
       " (198, 1, 4.0),\n",
       " (92, 1, 4.0),\n",
       " (212, 1, 3.0),\n",
       " (404, 1, 4.0),\n",
       " (353, 1, 2.0),\n",
       " (421, 1, 4.0),\n",
       " (241, 1, 3.0),\n",
       " (454, 1, 1.0),\n",
       " (475, 1, 4.0),\n",
       " (500, 1, 5.0),\n",
       " (149, 1, 1.0),\n",
       " (219, 1, 3.0),\n",
       " (311, 1, 1.0),\n",
       " (103, 1, 2.5),\n",
       " (86, 1, 2.0),\n",
       " (395, 1, 3.0),\n",
       " (208, 1, 4.0),\n",
       " (188, 1, 3.0),\n",
       " (107, 1, 1.0),\n",
       " (210, 1, 1.0),\n",
       " (298, 1, 1.0),\n",
       " (274, 1, 4.0),\n",
       " (163, 1, 4.0),\n",
       " (10, 1, 5.0),\n",
       " (427, 1, 2.0),\n",
       " (347, 1, 3.0),\n",
       " (223, 1, 3.0),\n",
       " (321, 1, 2.0),\n",
       " (96, 1, 3.0),\n",
       " (233, 1, 5.0),\n",
       " (372, 1, 1.5),\n",
       " (369, 1, 1.0),\n",
       " (265, 1, 3.0),\n",
       " (266, 1, 3.0),\n",
       " (331, 1, 3.0),\n",
       " (20, 1, 4.0),\n",
       " (123, 1, 2.0),\n",
       " (346, 1, 2.0),\n",
       " (71, 1, 2.0),\n",
       " (448, 1, 2.0),\n",
       " (162, 1, 3.0),\n",
       " (349, 1, 4.0),\n",
       " (322, 1, 1.0),\n",
       " (481, 1, 5.0),\n",
       " (258, 1, 2.0),\n",
       " (451, 1, 4.0),\n",
       " (110, 1, 2.0),\n",
       " (323, 1, 5.0),\n",
       " (320, 1, 2.5),\n",
       " (115, 1, 3.0),\n",
       " (375, 1, 3.0),\n",
       " (97, 1, 1.0),\n",
       " (399, 1, 3.0),\n",
       " (457, 1, 2.5),\n",
       " (281, 1, 1.0),\n",
       " (164, 1, 5.0),\n",
       " (302, 1, 3.0),\n",
       " (21, 1, 3.0),\n",
       " (324, 1, 2.5),\n",
       " (112, 1, 2.5),\n",
       " (381, 1, 3.5),\n",
       " (138, 1, 1.5),\n",
       " (410, 1, 1.0),\n",
       " (268, 1, 3.0),\n",
       " (142, 1, 1.0),\n",
       " (484, 1, 3.5),\n",
       " (65, 1, 5.0),\n",
       " (168, 1, 3.0),\n",
       " (200, 1, 5.0),\n",
       " (167, 1, 5.0),\n",
       " (128, 1, 4.0),\n",
       " (498, 1, 3.0),\n",
       " (365, 1, 2.5),\n",
       " (75, 1, 5.0),\n",
       " (246, 1, 3.0),\n",
       " (82, 1, 4.0),\n",
       " (342, 1, 4.0),\n",
       " (488, 1, 4.0),\n",
       " (156, 1, 1.0),\n",
       " (463, 1, 2.0),\n",
       " (367, 1, 4.0),\n",
       " (374, 1, 2.0),\n",
       " (487, 1, 3.0),\n",
       " (211, 1, 4.5),\n",
       " (439, 1, 3.0),\n",
       " (224, 1, 3.5)]"
      ]
     },
     "execution_count": 94,
     "metadata": {},
     "output_type": "execute_result"
    }
   ],
   "source": [
    "csi_data"
   ]
  },
  {
   "cell_type": "markdown",
   "id": "fccc612b",
   "metadata": {},
   "source": [
    "Гипотеза - пользователи с большим числом продуктов более лояльны"
   ]
  },
  {
   "cell_type": "code",
   "execution_count": 95,
   "id": "d7e0cb94",
   "metadata": {},
   "outputs": [],
   "source": [
    "cur.execute(\"\"\"\n",
    "    SELECT AVG(sub.avgcsi),\n",
    "    \n",
    "    CASE WHEN sub.numprod < 3 THEN '2 и менее продуктов'\n",
    "    ELSE '3 и более продуктов' END\n",
    "    FROM\n",
    "    (SELECT T.userid, T.numprod, Y.avgcsi\n",
    "    \n",
    "    FROM\n",
    "        (SELECT userid, COUNT(salesid) as numprod\n",
    "        \n",
    "        FROM user_products\n",
    "        GROUP BY \n",
    "            userid\n",
    "        ORDER BY numprod DESC\n",
    "        ) AS T\n",
    "        \n",
    "    INNER JOIN\n",
    "        (SELECT call_logging.userid, PERCENTILE_CONT(0.5) WITHIN GROUP(ORDER BY session_metrics.csi) as avgcsi\n",
    "        \n",
    "        FROM call_logging\n",
    "        INNER JOIN session_metrics ON call_logging.subsessionid = session_metrics.subsessionid\n",
    "        GROUP BY\n",
    "        call_logging.userid\n",
    "        ) AS Y\n",
    "    ON T.userid = Y.userid) AS sub\n",
    "    GROUP BY\n",
    "    sub.numprod < 3\n",
    ";\"\"\")"
   ]
  },
  {
   "cell_type": "code",
   "execution_count": 96,
   "id": "2b181abe",
   "metadata": {},
   "outputs": [
    {
     "data": {
      "text/plain": [
       "[(2.7903225806451615, '3 и более продуктов'),\n",
       " (3.0381944444444446, '2 и менее продуктов')]"
      ]
     },
     "execution_count": 96,
     "metadata": {},
     "output_type": "execute_result"
    }
   ],
   "source": [
    "cur.fetchall()"
   ]
  },
  {
   "cell_type": "markdown",
   "id": "3442694b",
   "metadata": {},
   "source": [
    "На наших случайно нагенеренных данных гипотеза не работает"
   ]
  },
  {
   "cell_type": "markdown",
   "id": "d355d83f",
   "metadata": {},
   "source": [
    "## Число обсужденных продуктов за сессию"
   ]
  },
  {
   "cell_type": "markdown",
   "id": "36698ad0",
   "metadata": {},
   "source": [
    "Посчитаем среднее число топиков за сессию"
   ]
  },
  {
   "cell_type": "code",
   "execution_count": 97,
   "id": "a0db16af",
   "metadata": {},
   "outputs": [],
   "source": [
    "sql_query = pd.read_sql_query(\"\"\"\n",
    "SELECT T.subsession_count, COUNT(T.subsession_count) as count\n",
    "\n",
    "FROM (\n",
    "     SELECT COUNT(subsessionid) as subsession_count\n",
    "     FROM call_logging\n",
    "     GROUP BY \n",
    "     sessionid\n",
    ") as T\n",
    "\n",
    "GROUP BY\n",
    "T.subsession_count\n",
    "ORDER BY\n",
    "count DESC\n",
    ";\"\"\", conn)"
   ]
  },
  {
   "cell_type": "code",
   "execution_count": 98,
   "id": "3b2d0f91",
   "metadata": {},
   "outputs": [
    {
     "data": {
      "image/png": "[encoded data removed]",
      "text/plain": [
       "<Figure size 432x288 with 1 Axes>"
      ]
     },
     "metadata": {
      "needs_background": "light"
     },
     "output_type": "display_data"
    }
   ],
   "source": [
    "sql_query.set_index('subsession_count').plot(kind='barh', title='Распределение числа тематик за сессию')\n",
    "plt.show()"
   ]
  },
  {
   "cell_type": "markdown",
   "id": "528e34df",
   "metadata": {},
   "source": [
    "# Распределение длительности разговора по продуктам"
   ]
  },
  {
   "cell_type": "markdown",
   "id": "686bf48d",
   "metadata": {},
   "source": [
    "Нам нужно понять, какое время обслуживания будет для нас целевым, поэтому посмотрим, какое время обслуживание у нас есть сейчас"
   ]
  },
  {
   "cell_type": "code",
   "execution_count": 99,
   "id": "20eb2982",
   "metadata": {},
   "outputs": [],
   "source": [
    "sql_query = pd.read_sql_query(\"\"\"\n",
    "SELECT products.productname, AVG(call_logging.callduration) as avg_duration\n",
    "\n",
    "FROM call_logging\n",
    "\n",
    "INNER JOIN products ON call_logging.productkeyword = products.productkeyword\n",
    "\n",
    "GROUP BY productname\n",
    "\n",
    "ORDER BY avg_duration DESC\"\"\", conn)"
   ]
  },
  {
   "cell_type": "code",
   "execution_count": 100,
   "id": "27d934da",
   "metadata": {},
   "outputs": [
    {
     "data": {
      "image/png": "[encoded data removed]",
      "text/plain": [
       "<Figure size 432x288 with 1 Axes>"
      ]
     },
     "metadata": {
      "needs_background": "light"
     },
     "output_type": "display_data"
    }
   ],
   "source": [
    "sql_query.set_index('productname').plot(kind='barh', title='Распределение числа тематик за сессию')\n",
    "plt.show()"
   ]
  },
  {
   "cell_type": "markdown",
   "id": "5d8f8993",
   "metadata": {},
   "source": [
    "# Запрос с условиями по трем таблицам"
   ]
  },
  {
   "cell_type": "markdown",
   "id": "7ea59541",
   "metadata": {},
   "source": [
    "Найдем пользователей старше 25, кому не понравилось обслуживание по ипотеке"
   ]
  },
  {
   "cell_type": "code",
   "execution_count": 101,
   "id": "2c948caa",
   "metadata": {},
   "outputs": [],
   "source": [
    "cur.execute(\"\"\"\n",
    "SELECT surname || ' ' || name || ' ' || fathersname as client\n",
    "FROM personal_data\n",
    "INNER JOIN call_logging ON call_logging.userid = personal_data.userid\n",
    "INNER JOIN session_metrics ON call_logging.subsessionid = session_metrics.subsessionid\n",
    "\n",
    "WHERE EXTRACT(YEAR FROM AGE(NOW(), personal_data.dateofbirth)) > 25 \n",
    "    AND call_logging.productkeyword = 'mortage'\n",
    "    AND session_metrics.csi < 3\"\"\")"
   ]
  },
  {
   "cell_type": "code",
   "execution_count": 102,
   "id": "7e5be829",
   "metadata": {},
   "outputs": [
    {
     "data": {
      "text/plain": [
       "[('Васильева Полина Вячеславовна',),\n",
       " ('Кононова Милана Викторовна',),\n",
       " ('Васютичев Георгий Глебович',),\n",
       " ('Фролова Кира Валентиновна',),\n",
       " ('Медведева Милана Васильевна',),\n",
       " ('Куликова Валерия Андреевна',),\n",
       " ('Хлынов Илья Тарасович',),\n",
       " ('Величко Константин Юрьевич',),\n",
       " ('Никитина Евгения Виталиевна',),\n",
       " ('Богданова Ксения Александровна',),\n",
       " ('Толстых Марк Вячеславович',),\n",
       " ('Некрасова Маргарита Викторовна',),\n",
       " ('Раздобарин Тимур Маркович',),\n",
       " ('Савина Валерия Викторовна',),\n",
       " ('Марушка Тимофей Максимович',),\n",
       " ('Бойко Георгий Платонович',),\n",
       " ('Варапанов Яков Кириллович',),\n",
       " ('Веретельников Виктор Назарович',),\n",
       " ('Абрамова Ксения Сергеевна',),\n",
       " ('Калашникова Людмила Даниловна',),\n",
       " ('Сенчин Лев Матвеевич',),\n",
       " ('Кулагина Маргарита Семеновна',),\n",
       " ('Шубенок Тимофей Федорович',),\n",
       " ('Варапанов Яков Кириллович',),\n",
       " ('Лебедева Людмила Тимофеевна',),\n",
       " ('Симонова Елизавета Алексеевна',),\n",
       " ('Победнов Даниил Данилович',),\n",
       " ('Калинников Яков Вадимович',)]"
      ]
     },
     "execution_count": 102,
     "metadata": {},
     "output_type": "execute_result"
    }
   ],
   "source": [
    "cur.fetchall()"
   ]
  },
  {
   "cell_type": "code",
   "execution_count": 103,
   "id": "bc5087cb",
   "metadata": {},
   "outputs": [],
   "source": [
    "cur.execute(\"\"\"\n",
    "SELECT surname || ' ' || name || ' ' || fathersname as client\n",
    "FROM personal_data\n",
    "INNER JOIN call_logging ON call_logging.userid = personal_data.userid\n",
    "INNER JOIN session_metrics ON call_logging.subsessionid = session_metrics.subsessionid\n",
    "INNER JOIN sales_logging ON call_logging.subsessionid = sales_logging.subsessionid\n",
    "INNER JOIN products ON sales_logging.productid = products.productid\n",
    "\n",
    "WHERE EXTRACT(YEAR FROM AGE(NOW(), personal_data.dateofbirth)) > 25 \n",
    "    AND call_logging.productkeyword = 'mortage'\n",
    "    AND session_metrics.csi > 3\n",
    "    AND products.productkeyword = 'mortage'\"\"\")"
   ]
  },
  {
   "cell_type": "code",
   "execution_count": 104,
   "id": "542e9c3c",
   "metadata": {},
   "outputs": [
    {
     "data": {
      "text/plain": [
       "[('Денисова Ева Вячеславовна',)]"
      ]
     },
     "execution_count": 104,
     "metadata": {},
     "output_type": "execute_result"
    }
   ],
   "source": [
    "cur.fetchall()"
   ]
  },
  {
   "cell_type": "markdown",
   "id": "a1a6ed01",
   "metadata": {},
   "source": [
    "# Изменение"
   ]
  },
  {
   "cell_type": "code",
   "execution_count": 105,
   "id": "4fd7e98c",
   "metadata": {},
   "outputs": [
    {
     "data": {
      "text/plain": [
       "[(976, 5)]"
      ]
     },
     "execution_count": 105,
     "metadata": {},
     "output_type": "execute_result"
    }
   ],
   "source": [
    "cur.execute(\"\"\"SELECT subsessionid, csi \n",
    "FROM session_metrics\n",
    "ORDER BY subsessionid DESC\n",
    "LIMIT 1;\"\"\")\n",
    "cur.fetchall()"
   ]
  },
  {
   "cell_type": "code",
   "execution_count": 106,
   "id": "72f5e6df",
   "metadata": {},
   "outputs": [],
   "source": [
    "cur.execute(\"\"\"UPDATE session_metrics SET csi = 4 WHERE subsessionid = 976;\"\"\")"
   ]
  },
  {
   "cell_type": "code",
   "execution_count": 107,
   "id": "7214f89e",
   "metadata": {},
   "outputs": [],
   "source": [
    "conn.commit()"
   ]
  },
  {
   "cell_type": "code",
   "execution_count": 108,
   "id": "32dafbc8",
   "metadata": {},
   "outputs": [
    {
     "data": {
      "text/plain": [
       "[(976, 4)]"
      ]
     },
     "execution_count": 108,
     "metadata": {},
     "output_type": "execute_result"
    }
   ],
   "source": [
    "cur.execute(\"\"\"SELECT subsessionid, csi \n",
    "FROM session_metrics\n",
    "ORDER BY subsessionid DESC\n",
    "LIMIT 1;\"\"\")\n",
    "cur.fetchall()"
   ]
  },
  {
   "cell_type": "markdown",
   "id": "6180bad8",
   "metadata": {},
   "source": [
    "## Удаление"
   ]
  },
  {
   "cell_type": "code",
   "execution_count": null,
   "id": "85924531",
   "metadata": {},
   "outputs": [],
   "source": [
    "cur.execute(\"\"\"DELETE FROM user_products\n",
    "      WHERE userid = {} AND productid = {};\"\"\".format((1, 2)))\n",
    "conn.commit()"
   ]
  }
 ],
 "metadata": {
  "kernelspec": {
   "display_name": "Python 3 (ipykernel)",
   "language": "python",
   "name": "python3"
  },
  "language_info": {
   "codemirror_mode": {
    "name": "ipython",
    "version": 3
   },
   "file_extension": ".py",
   "mimetype": "text/x-python",
   "name": "python",
   "nbconvert_exporter": "python",
   "pygments_lexer": "ipython3",
   "version": "3.9.0"
  }
 },
 "nbformat": 4,
 "nbformat_minor": 5
}
